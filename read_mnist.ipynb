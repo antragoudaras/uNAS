{
 "cells": [
  {
   "cell_type": "code",
   "execution_count": 1,
   "metadata": {},
   "outputs": [
    {
     "name": "stderr",
     "output_type": "stream",
     "text": [
      "2022-07-04 14:15:19.687750: W tensorflow/stream_executor/platform/default/dso_loader.cc:64] Could not load dynamic library 'libcudart.so.11.0'; dlerror: libcudart.so.11.0: cannot open shared object file: No such file or directory\n",
      "2022-07-04 14:15:19.687792: I tensorflow/stream_executor/cuda/cudart_stub.cc:29] Ignore above cudart dlerror if you do not have a GPU set up on your machine.\n",
      "/home/antragoudaras/anaconda3/envs/uNAS-env/lib/python3.7/site-packages/tqdm/auto.py:22: TqdmWarning: IProgress not found. Please update jupyter and ipywidgets. See https://ipywidgets.readthedocs.io/en/stable/user_install.html\n",
      "  from .autonotebook import tqdm as notebook_tqdm\n",
      "/home/antragoudaras/anaconda3/envs/uNAS-env/lib/python3.7/site-packages/dragonfly/utils/oper_utils.py:30: UserWarning: cannot import name 'direct' from 'dragonfly.utils.direct_fortran' (/home/antragoudaras/anaconda3/envs/uNAS-env/lib/python3.7/site-packages/dragonfly/utils/direct_fortran/__init__.py)\n",
      "Could not import Fortran direct library. Dragonfly can still be used, but might be slightly slower. To get rid of this warning, install a numpy compatible Fortran compiler (e.g. gfortran) and the python-dev package and reinstall Dragonfly.\n",
      "  warn('%s\\n%s'%(e, fortran_err_msg))\n"
     ]
    }
   ],
   "source": [
    "import pickle\n",
    "import numpy as np\n",
    "import tensorflow as tf\n",
    "\n",
    "objects = []\n",
    "with (open(\"./artifacts/cnn_mnist/plain_final_agingevosearch_state.pickle\", \"rb\")) as openfile:\n",
    "    while True:\n",
    "        try:\n",
    "            objects.append(pickle.load(openfile))\n",
    "        except EOFError:\n",
    "            break"
   ]
  },
  {
   "cell_type": "code",
   "execution_count": 2,
   "metadata": {},
   "outputs": [
    {
     "name": "stdout",
     "output_type": "stream",
     "text": [
      "Minimum val error:  0.005666673183441162\n",
      "Minimum test error:  0.0056999921798706055\n",
      "Val errors:  [0.00566667 0.00566667 0.00583333 ... 0.88766667 0.88766667 0.88766667]\n",
      "Test errors:  [0.00569999 0.0061     0.00639999 ... 0.8865     0.8865     0.8865    ]\n",
      "Minimum test error found: 0.0056999921798706055 in round: 1718\n",
      "resource_features: [38764, 41438, 3977871], test_error: 0.0056999921798706055\n",
      "Maximum Peak Mem Usage: [   130    153    153 ... 156016 170820 177968]\n"
     ]
    }
   ],
   "source": [
    "val_errors = []\n",
    "test_errors = []\n",
    "peak_mem_usage =[]\n",
    "for point in objects[0]:\n",
    "    val_errors.append(point.val_error)\n",
    "    test_errors.append(point.test_error)\n",
    "    peak_mem_usage.append(point.resource_features[0])\n",
    "    \n",
    "print(\"Minimum val error: \", min(val_errors))\n",
    "print(\"Minimum test error: \", min(test_errors))\n",
    "print(\"Val errors: \", np.sort(val_errors))\n",
    "print(\"Test errors: \", np.sort(test_errors))\n",
    "minimum_arg = np.argmin(test_errors)\n",
    "print(\"Minimum test error found: {} in round: {}\".format(test_errors[minimum_arg], minimum_arg))\n",
    "print(\"resource_features: {}, test_error: {}\".format(objects[0][minimum_arg].resource_features, objects[0][minimum_arg].test_error))\n",
    "print(\"Maximum Peak Mem Usage: {}\".format(np.sort(peak_mem_usage)))"
   ]
  },
  {
   "cell_type": "code",
   "execution_count": 3,
   "metadata": {},
   "outputs": [
    {
     "name": "stdout",
     "output_type": "stream",
     "text": [
      "{'conv_blocks': [{'is_branch': False, 'layers': [{'type': 'DWConv2D', 'ker_size': 3, '2x_stride': True, 'has_bn': False, 'has_relu': True, 'has_prepool': False, '_weights': ['depthwise_conv2d_26/depthwise_kernel:0', 'depthwise_conv2d_26/bias:0']}, {'type': 'Conv2D', 'ker_size': 3, 'filters': 61, '2x_stride': True, 'has_bn': False, 'has_relu': False, 'has_prepool': False, '_weights': ['conv2d_36/kernel:0', 'conv2d_36/bias:0']}]}, {'is_branch': True, 'layers': [{'type': 'Conv2D', 'ker_size': 5, 'filters': 64, '2x_stride': False, 'has_bn': False, 'has_relu': True, 'has_prepool': False, '_weights': ['conv2d_37/kernel:0', 'conv2d_37/bias:0']}, {'type': 'Conv2D', 'ker_size': 5, 'filters': 1, '2x_stride': True, 'has_bn': False, 'has_relu': False, 'has_prepool': False, '_weights': ['conv2d_38/kernel:0', 'conv2d_38/bias:0']}]}, {'is_branch': False, 'layers': [{'type': 'DWConv2D', 'ker_size': 3, '2x_stride': False, 'has_bn': True, 'has_relu': False, 'has_prepool': False, '_weights': ['depthwise_conv2d_27/depthwise_kernel:0', 'depthwise_conv2d_27/bias:0']}]}], 'pooling': None, 'dense_blocks': [{'units': 41, 'activation': 'relu', '_weights': ['dense_31/kernel:0', 'dense_31/bias:0']}], '_final_dense': {'units': 10, 'activation': None, '_weights': ['dense_32/kernel:0', 'dense_32/bias:0']}}\n"
     ]
    }
   ],
   "source": [
    "print(objects[0][1718].point.arch.architecture)"
   ]
  }
 ],
 "metadata": {
  "kernelspec": {
   "display_name": "Python 3.7.13 ('uNAS-env')",
   "language": "python",
   "name": "python3"
  },
  "language_info": {
   "codemirror_mode": {
    "name": "ipython",
    "version": 3
   },
   "file_extension": ".py",
   "mimetype": "text/x-python",
   "name": "python",
   "nbconvert_exporter": "python",
   "pygments_lexer": "ipython3",
   "version": "3.7.13"
  },
  "orig_nbformat": 4,
  "vscode": {
   "interpreter": {
    "hash": "b0a7741d7e029aabb38fa8d45f418a3fef337e7a049c994809bb975458eb7dfe"
   }
  }
 },
 "nbformat": 4,
 "nbformat_minor": 2
}
