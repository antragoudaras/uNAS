{
 "cells": [
  {
   "cell_type": "code",
   "execution_count": 1,
   "metadata": {},
   "outputs": [
    {
     "name": "stderr",
     "output_type": "stream",
     "text": [
      "2022-07-04 14:07:51.548144: W tensorflow/stream_executor/platform/default/dso_loader.cc:64] Could not load dynamic library 'libcudart.so.11.0'; dlerror: libcudart.so.11.0: cannot open shared object file: No such file or directory\n",
      "2022-07-04 14:07:51.548194: I tensorflow/stream_executor/cuda/cudart_stub.cc:29] Ignore above cudart dlerror if you do not have a GPU set up on your machine.\n",
      "/home/antragoudaras/anaconda3/envs/uNAS-env/lib/python3.7/site-packages/tqdm/auto.py:22: TqdmWarning: IProgress not found. Please update jupyter and ipywidgets. See https://ipywidgets.readthedocs.io/en/stable/user_install.html\n",
      "  from .autonotebook import tqdm as notebook_tqdm\n",
      "/home/antragoudaras/anaconda3/envs/uNAS-env/lib/python3.7/site-packages/dragonfly/utils/oper_utils.py:30: UserWarning: cannot import name 'direct' from 'dragonfly.utils.direct_fortran' (/home/antragoudaras/anaconda3/envs/uNAS-env/lib/python3.7/site-packages/dragonfly/utils/direct_fortran/__init__.py)\n",
      "Could not import Fortran direct library. Dragonfly can still be used, but might be slightly slower. To get rid of this warning, install a numpy compatible Fortran compiler (e.g. gfortran) and the python-dev package and reinstall Dragonfly.\n",
      "  warn('%s\\n%s'%(e, fortran_err_msg))\n"
     ]
    }
   ],
   "source": [
    "import pickle\n",
    "import numpy as np\n",
    "import tensorflow as tf\n",
    "\n",
    "objects = []\n",
    "with (open(\"./artifacts/cnn_egg/uNAS_egg_dataset_subject_id3_agingevo_nopruning_agingevosearch_state.pickle\", \"rb\")) as openfile:\n",
    "    while True:\n",
    "        try:\n",
    "            objects.append(pickle.load(openfile))\n",
    "        except EOFError:\n",
    "            break"
   ]
  },
  {
   "cell_type": "code",
   "execution_count": 2,
   "metadata": {},
   "outputs": [
    {
     "name": "stdout",
     "output_type": "stream",
     "text": [
      "Minimum val error:  0.27586209774017334\n",
      "Minimum test error:  0.4131944179534912\n",
      "Val errors:  [0.2758621  0.2758621  0.31034482 ... 0.79310344 0.79310344 0.8275862 ]\n",
      "Test errors:  [0.41319442 0.41319442 0.4201389  ... 0.79166667 0.7951389  0.7951389 ]\n",
      "Minimum test error found: 0.4131944179534912 in round: 1789\n",
      "resource_features: [110161, 440395, 31822181], test_error: 0.4131944179534912\n",
      "Maximum Peak Mem Usage: [   4668    4668    4668 ... 5465918 5717250 5738958]\n"
     ]
    }
   ],
   "source": [
    "val_errors = []\n",
    "test_errors = []\n",
    "peak_mem_usage =[]\n",
    "for point in objects[0]:\n",
    "    val_errors.append(point.val_error)\n",
    "    test_errors.append(point.test_error)\n",
    "    peak_mem_usage.append(point.resource_features[0])\n",
    "    \n",
    "print(\"Minimum val error: \", min(val_errors))\n",
    "print(\"Minimum test error: \", min(test_errors))\n",
    "print(\"Val errors: \", np.sort(val_errors))\n",
    "print(\"Test errors: \", np.sort(test_errors))\n",
    "minimum_arg = np.argmin(test_errors)\n",
    "print(\"Minimum test error found: {} in round: {}\".format(test_errors[minimum_arg], minimum_arg))\n",
    "print(\"resource_features: {}, test_error: {}\".format(objects[0][minimum_arg].resource_features, objects[0][minimum_arg].test_error))\n",
    "print(\"Maximum Peak Mem Usage: {}\".format(np.sort(peak_mem_usage)))"
   ]
  },
  {
   "cell_type": "code",
   "execution_count": 3,
   "metadata": {},
   "outputs": [
    {
     "name": "stdout",
     "output_type": "stream",
     "text": [
      "{'conv_blocks': [{'is_branch': False, 'layers': [{'type': 'Conv2D', 'ker_size': 3, 'filters': 65, '2x_stride': True, 'has_bn': True, 'has_relu': True, 'has_prepool': True, '_weights': ['conv2d_2012/kernel:0', 'conv2d_2012/bias:0']}, {'type': 'Conv2D', 'ker_size': 5, 'filters': 68, '2x_stride': False, 'has_bn': True, 'has_relu': True, 'has_prepool': False, '_weights': ['conv2d_2013/kernel:0', 'conv2d_2013/bias:0']}, {'type': 'DWConv2D', 'ker_size': 7, '2x_stride': False, 'has_bn': False, 'has_relu': True, 'has_prepool': True, '_weights': ['depthwise_conv2d_3657/depthwise_kernel:0', 'depthwise_conv2d_3657/bias:0']}]}], 'pooling': {'type': 'avg', 'pool_size': 6}, 'dense_blocks': [{'units': 201, 'activation': 'relu', '_weights': ['dense_3901/kernel:0', 'dense_3901/bias:0']}], '_final_dense': {'units': 4, 'activation': None, '_weights': ['dense_3902/kernel:0', 'dense_3902/bias:0']}}\n",
      "0.4131944179534912\n"
     ]
    }
   ],
   "source": [
    "print(objects[0][1789].point.arch.architecture)\n",
    "print(objects[0][1789].test_error)"
   ]
  },
  {
   "cell_type": "code",
   "execution_count": 4,
   "metadata": {},
   "outputs": [],
   "source": [
    "import pickle\n",
    "import numpy as np\n",
    "import tensorflow as tf\n",
    "\n",
    "objects = []\n",
    "with (open(\"./artifacts/cnn_egg/uNAS_egg_dataset_subject_id3_agingevo_SGDW_nopruning_agingevosearch_state.pickle\", \"rb\")) as openfile:\n",
    "    while True:\n",
    "        try:\n",
    "            objects.append(pickle.load(openfile))\n",
    "        except EOFError:\n",
    "            break"
   ]
  },
  {
   "cell_type": "code",
   "execution_count": 5,
   "metadata": {},
   "outputs": [
    {
     "name": "stdout",
     "output_type": "stream",
     "text": [
      "Minimum val error:  0.24137932062149048\n",
      "Minimum test error:  0.4270833134651184\n",
      "Val errors:  [0.24137932 0.2758621  0.2758621  ... 0.75862069 0.75862069 0.75862069]\n",
      "Test errors:  [0.42708331 0.44444442 0.4513889  ... 0.7951389  0.80555555 0.80555555]\n",
      "Minimum test error found: 0.4270833134651184 in round: 1649\n",
      "resource_features: [400148, 188062, 8814172], test_error: 0.4270833134651184\n",
      "Maximum Peak Mem Usage: [   4668    4757    4757 ... 5571072 5717250 5738958]\n"
     ]
    }
   ],
   "source": [
    "val_errors = []\n",
    "test_errors = []\n",
    "peak_mem_usage =[]\n",
    "for point in objects[0]:\n",
    "    val_errors.append(point.val_error)\n",
    "    test_errors.append(point.test_error)\n",
    "    peak_mem_usage.append(point.resource_features[0])\n",
    "    \n",
    "print(\"Minimum val error: \", min(val_errors))\n",
    "print(\"Minimum test error: \", min(test_errors))\n",
    "print(\"Val errors: \", np.sort(val_errors))\n",
    "print(\"Test errors: \", np.sort(test_errors))\n",
    "minimum_arg = np.argmin(test_errors)\n",
    "print(\"Minimum test error found: {} in round: {}\".format(test_errors[minimum_arg], minimum_arg))\n",
    "print(\"resource_features: {}, test_error: {}\".format(objects[0][minimum_arg].resource_features, objects[0][minimum_arg].test_error))\n",
    "print(\"Maximum Peak Mem Usage: {}\".format(np.sort(peak_mem_usage)))"
   ]
  },
  {
   "cell_type": "code",
   "execution_count": 6,
   "metadata": {},
   "outputs": [
    {
     "name": "stdout",
     "output_type": "stream",
     "text": [
      "{'conv_blocks': [{'is_branch': False, 'layers': [{'type': 'Conv2D', 'ker_size': 5, 'filters': 62, '2x_stride': True, 'has_bn': True, 'has_relu': True, 'has_prepool': False, '_weights': ['conv2d_2428/kernel:0', 'conv2d_2428/bias:0']}, {'type': 'DWConv2D', 'ker_size': 5, '2x_stride': False, 'has_bn': False, 'has_relu': True, 'has_prepool': True, '_weights': ['depthwise_conv2d_4119/depthwise_kernel:0', 'depthwise_conv2d_4119/bias:0']}, {'type': 'DWConv2D', 'ker_size': 3, '2x_stride': True, 'has_bn': True, 'has_relu': False, 'has_prepool': True, '_weights': ['depthwise_conv2d_4120/depthwise_kernel:0', 'depthwise_conv2d_4120/bias:0']}]}], 'pooling': {'type': 'avg', 'pool_size': 6}, 'dense_blocks': [{'units': 218, 'activation': 'relu', '_weights': ['dense_3809/kernel:0', 'dense_3809/bias:0']}, {'units': 100, 'activation': 'relu', '_weights': ['dense_3810/kernel:0', 'dense_3810/bias:0']}], '_final_dense': {'units': 4, 'activation': None, '_weights': ['dense_3811/kernel:0', 'dense_3811/bias:0']}}\n",
      "0.4270833134651184\n"
     ]
    }
   ],
   "source": [
    "print(objects[0][1649].point.arch.architecture)\n",
    "print(objects[0][1649].test_error)"
   ]
  },
  {
   "cell_type": "code",
   "execution_count": 7,
   "metadata": {},
   "outputs": [],
   "source": [
    "import pickle\n",
    "import numpy as np\n",
    "import tensorflow as tf\n",
    "\n",
    "objects = []\n",
    "with (open(\"./artifacts/cnn_egg/uNAS_egg_dataset_subject_id3_agingevo_struct_pruning_agingevosearch_state.pickle\", \"rb\")) as openfile:\n",
    "    while True:\n",
    "        try:\n",
    "            objects.append(pickle.load(openfile))\n",
    "        except EOFError:\n",
    "            break"
   ]
  },
  {
   "cell_type": "code",
   "execution_count": 8,
   "metadata": {},
   "outputs": [
    {
     "name": "stdout",
     "output_type": "stream",
     "text": [
      "Minimum val error:  0.3103448152542114\n",
      "Minimum test error:  0.4895833134651184\n",
      "Val errors:  [0.31034482 0.34482759 0.34482759 ... 0.86206897 0.86206897 0.86206897]\n",
      "Test errors:  [0.48958331 0.5        0.52083334 ... 0.77777778 0.78819445 0.79166667]\n",
      "Minimum test error found: 0.4895833134651184 in round: 349\n",
      "resource_features: [1937535, 462758, 191876677], test_error: 0.4895833134651184\n",
      "Maximum Peak Mem Usage: [   4504    4668    5036 ... 4862630 5523570 5618250]\n"
     ]
    }
   ],
   "source": [
    "val_errors = []\n",
    "test_errors = []\n",
    "peak_mem_usage =[]\n",
    "for point in objects[0]:\n",
    "    val_errors.append(point.val_error)\n",
    "    test_errors.append(point.test_error)\n",
    "    peak_mem_usage.append(point.resource_features[0])\n",
    "    \n",
    "print(\"Minimum val error: \", min(val_errors))\n",
    "print(\"Minimum test error: \", min(test_errors))\n",
    "print(\"Val errors: \", np.sort(val_errors))\n",
    "print(\"Test errors: \", np.sort(test_errors))\n",
    "minimum_arg = np.argmin(test_errors)\n",
    "print(\"Minimum test error found: {} in round: {}\".format(test_errors[minimum_arg], minimum_arg))\n",
    "print(\"resource_features: {}, test_error: {}\".format(objects[0][minimum_arg].resource_features, objects[0][minimum_arg].test_error))\n",
    "print(\"Maximum Peak Mem Usage: {}\".format(np.sort(peak_mem_usage)))"
   ]
  },
  {
   "cell_type": "code",
   "execution_count": 9,
   "metadata": {},
   "outputs": [
    {
     "name": "stdout",
     "output_type": "stream",
     "text": [
      "{'conv_blocks': [{'is_branch': False, 'layers': [{'type': 'Conv2D', 'ker_size': 3, 'filters': 67, '2x_stride': False, 'has_bn': False, 'has_relu': True, 'has_prepool': False, '_weights': ['conv2d_1397/kernel:0', 'conv2d_1397/bias:0']}]}, {'is_branch': False, 'layers': [{'type': '1x1Conv2D', 'filters': 60, 'has_bn': True, 'has_relu': True, 'has_prepool': False, '_weights': ['conv2d_1398/kernel:0', 'conv2d_1398/bias:0']}]}, {'is_branch': True, 'layers': [{'type': 'DWConv2D', 'ker_size': 5, '2x_stride': False, 'has_bn': True, 'has_relu': True, 'has_prepool': True, '_weights': ['depthwise_conv2d_847/depthwise_kernel:0', 'depthwise_conv2d_847/bias:0']}, {'type': 'Conv2D', 'ker_size': 3, 'filters': 16, '2x_stride': False, 'has_bn': False, 'has_relu': True, 'has_prepool': False, '_weights': ['conv2d_1399/kernel:0', 'conv2d_1399/bias:0']}]}, {'is_branch': True, 'layers': [{'type': 'Conv2D', 'ker_size': 5, 'filters': 16, '2x_stride': True, 'has_bn': True, 'has_relu': True, 'has_prepool': True, '_weights': ['conv2d_1400/kernel:0', 'conv2d_1400/bias:0']}]}, {'is_branch': False, 'layers': [{'type': 'Conv2D', 'ker_size': 5, 'filters': 33, '2x_stride': False, 'has_bn': True, 'has_relu': True, 'has_prepool': False, '_weights': ['conv2d_1401/kernel:0', 'conv2d_1401/bias:0']}, {'type': 'DWConv2D', 'ker_size': 3, '2x_stride': False, 'has_bn': False, 'has_relu': True, 'has_prepool': False, '_weights': ['depthwise_conv2d_848/depthwise_kernel:0', 'depthwise_conv2d_848/bias:0']}]}], 'pooling': {'type': 'avg', 'pool_size': 4}, 'dense_blocks': [{'units': 137, 'activation': 'relu', '_weights': ['dense_783/kernel:0', 'dense_783/bias:0']}], '_final_dense': {'units': 4, 'activation': None, '_weights': ['dense_784/kernel:0', 'dense_784/bias:0']}}\n",
      "0.4895833134651184\n"
     ]
    }
   ],
   "source": [
    "print(objects[0][349].point.arch.architecture)\n",
    "print(objects[0][349].test_error)"
   ]
  },
  {
   "cell_type": "code",
   "execution_count": 10,
   "metadata": {},
   "outputs": [],
   "source": [
    "import pickle\n",
    "import numpy as np\n",
    "import tensorflow as tf\n",
    "\n",
    "objects = []\n",
    "with (open(\"./artifacts/cnn_egg/uNAS_egg_dataset_subject_id2_agingevo_nopruning_agingevosearch_state.pickle\", \"rb\")) as openfile:\n",
    "    while True:\n",
    "        try:\n",
    "            objects.append(pickle.load(openfile))\n",
    "        except EOFError:\n",
    "            break"
   ]
  },
  {
   "cell_type": "code",
   "execution_count": 11,
   "metadata": {},
   "outputs": [
    {
     "name": "stdout",
     "output_type": "stream",
     "text": [
      "Minimum val error:  0.37931036949157715\n",
      "Minimum test error:  0.6388888955116272\n",
      "Val errors:  [0.37931037 0.37931037 0.37931037 ... 0.79310344 0.79310344 0.8275862 ]\n",
      "Test errors:  [0.6388889  0.64583334 0.65277779 ... 0.80555555 0.80902778 0.82291667]\n",
      "Minimum test error found: 0.6388888955116272 in round: 919\n",
      "resource_features: [11382, 13398, 276046], test_error: 0.6388888955116272\n",
      "Maximum Peak Mem Usage: [   5600    5600    5600 ... 5465918 5717250 5738958]\n"
     ]
    }
   ],
   "source": [
    "val_errors = []\n",
    "test_errors = []\n",
    "peak_mem_usage =[]\n",
    "for point in objects[0]:\n",
    "    val_errors.append(point.val_error)\n",
    "    test_errors.append(point.test_error)\n",
    "    peak_mem_usage.append(point.resource_features[0])\n",
    "    \n",
    "print(\"Minimum val error: \", min(val_errors))\n",
    "print(\"Minimum test error: \", min(test_errors))\n",
    "print(\"Val errors: \", np.sort(val_errors))\n",
    "print(\"Test errors: \", np.sort(test_errors))\n",
    "minimum_arg = np.argmin(test_errors)\n",
    "print(\"Minimum test error found: {} in round: {}\".format(test_errors[minimum_arg], minimum_arg))\n",
    "print(\"resource_features: {}, test_error: {}\".format(objects[0][minimum_arg].resource_features, objects[0][minimum_arg].test_error))\n",
    "print(\"Maximum Peak Mem Usage: {}\".format(np.sort(peak_mem_usage)))"
   ]
  },
  {
   "cell_type": "code",
   "execution_count": 12,
   "metadata": {},
   "outputs": [
    {
     "name": "stdout",
     "output_type": "stream",
     "text": [
      "{'conv_blocks': [{'is_branch': False, 'layers': [{'type': 'DWConv2D', 'ker_size': 3, '2x_stride': True, 'has_bn': True, 'has_relu': True, 'has_prepool': True, '_weights': ['depthwise_conv2d_3918/depthwise_kernel:0', 'depthwise_conv2d_3918/bias:0']}, {'type': 'DWConv2D', 'ker_size': 3, '2x_stride': False, 'has_bn': False, 'has_relu': True, 'has_prepool': True, '_weights': ['depthwise_conv2d_3919/depthwise_kernel:0', 'depthwise_conv2d_3919/bias:0']}]}, {'is_branch': True, 'layers': [{'type': 'Conv2D', 'ker_size': 3, 'filters': 1, '2x_stride': False, 'has_bn': False, 'has_relu': True, 'has_prepool': True, '_weights': ['conv2d_3350/kernel:0', 'conv2d_3350/bias:0']}]}, {'is_branch': True, 'layers': [{'type': 'Conv2D', 'ker_size': 5, 'filters': 1, '2x_stride': True, 'has_bn': True, 'has_relu': True, 'has_prepool': True, '_weights': ['conv2d_3351/kernel:0', 'conv2d_3351/bias:0']}]}, {'is_branch': True, 'layers': [{'type': 'DWConv2D', 'ker_size': 3, '2x_stride': False, 'has_bn': True, 'has_relu': False, 'has_prepool': True, '_weights': ['depthwise_conv2d_3920/depthwise_kernel:0', 'depthwise_conv2d_3920/bias:0']}, {'type': 'DWConv2D', 'ker_size': 5, '2x_stride': True, 'has_bn': False, 'has_relu': True, 'has_prepool': False, '_weights': ['depthwise_conv2d_3921/depthwise_kernel:0', 'depthwise_conv2d_3921/bias:0']}]}], 'pooling': {'type': 'max', 'pool_size': 2}, 'dense_blocks': [{'units': 175, 'activation': 'relu', '_weights': ['dense_2448/kernel:0', 'dense_2448/bias:0']}], '_final_dense': {'units': 4, 'activation': None, '_weights': ['dense_2449/kernel:0', 'dense_2449/bias:0']}}\n",
      "0.6388888955116272\n"
     ]
    }
   ],
   "source": [
    "print(objects[0][919].point.arch.architecture)\n",
    "print(objects[0][919].test_error)"
   ]
  },
  {
   "cell_type": "code",
   "execution_count": 13,
   "metadata": {},
   "outputs": [],
   "source": [
    "import pickle\n",
    "import numpy as np\n",
    "import tensorflow as tf\n",
    "\n",
    "objects = []\n",
    "with (open(\"./artifacts/cnn_egg/uNAS_egg_dataset_subject_id2_agingevo_nopruning_no_bounds_agingevosearch_state.pickle\", \"rb\")) as openfile:\n",
    "    while True:\n",
    "        try:\n",
    "            objects.append(pickle.load(openfile))\n",
    "        except EOFError:\n",
    "            break"
   ]
  },
  {
   "cell_type": "code",
   "execution_count": 14,
   "metadata": {},
   "outputs": [
    {
     "name": "stdout",
     "output_type": "stream",
     "text": [
      "Minimum val error:  0.3448275923728943\n",
      "Minimum test error:  0.6458333432674408\n",
      "Val errors:  [0.34482759 0.44827586 0.44827586 ... 0.75862069 0.75862069 0.79310344]\n",
      "Test errors:  [0.64583334 0.66666666 0.66666666 ... 0.80208333 0.80208333 0.80208333]\n",
      "Minimum test error found: 0.6458333432674408 in round: 2414\n",
      "resource_features: [749840, 169285, 34497142], test_error: 0.6458333432674408\n",
      "Maximum Peak Mem Usage: [   6454    6454    6454 ... 5717250 5738958 6671412]\n"
     ]
    }
   ],
   "source": [
    "val_errors = []\n",
    "test_errors = []\n",
    "peak_mem_usage =[]\n",
    "for point in objects[0]:\n",
    "    val_errors.append(point.val_error)\n",
    "    test_errors.append(point.test_error)\n",
    "    peak_mem_usage.append(point.resource_features[0])\n",
    "    \n",
    "print(\"Minimum val error: \", min(val_errors))\n",
    "print(\"Minimum test error: \", min(test_errors))\n",
    "print(\"Val errors: \", np.sort(val_errors))\n",
    "print(\"Test errors: \", np.sort(test_errors))\n",
    "minimum_arg = np.argmin(test_errors)\n",
    "print(\"Minimum test error found: {} in round: {}\".format(test_errors[minimum_arg], minimum_arg))\n",
    "print(\"resource_features: {}, test_error: {}\".format(objects[0][minimum_arg].resource_features, objects[0][minimum_arg].test_error))\n",
    "print(\"Maximum Peak Mem Usage: {}\".format(np.sort(peak_mem_usage)))"
   ]
  },
  {
   "cell_type": "code",
   "execution_count": 15,
   "metadata": {},
   "outputs": [
    {
     "name": "stdout",
     "output_type": "stream",
     "text": [
      "{'conv_blocks': [{'is_branch': False, 'layers': [{'type': 'DWConv2D', 'ker_size': 3, '2x_stride': True, 'has_bn': True, 'has_relu': True, 'has_prepool': False, '_weights': ['depthwise_conv2d_4138/depthwise_kernel:0', 'depthwise_conv2d_4138/bias:0']}]}, {'is_branch': False, 'layers': [{'type': 'Conv2D', 'ker_size': 3, 'filters': 31, '2x_stride': True, 'has_bn': True, 'has_relu': True, 'has_prepool': True, '_weights': ['conv2d_18975/kernel:0', 'conv2d_18975/bias:0']}, {'type': '1x1Conv2D', 'filters': 12, 'has_bn': True, 'has_relu': True, 'has_prepool': False, '_weights': ['conv2d_18976/kernel:0', 'conv2d_18976/bias:0']}, {'type': 'Conv2D', 'ker_size': 5, 'filters': 98, '2x_stride': False, 'has_bn': False, 'has_relu': False, 'has_prepool': True, '_weights': ['conv2d_18977/kernel:0', 'conv2d_18977/bias:0']}]}, {'is_branch': True, 'layers': [{'type': 'Conv2D', 'ker_size': 3, 'filters': 69, '2x_stride': False, 'has_bn': False, 'has_relu': True, 'has_prepool': False, '_weights': ['conv2d_18978/kernel:0', 'conv2d_18978/bias:0']}, {'type': '1x1Conv2D', 'filters': 98, 'has_bn': False, 'has_relu': False, 'has_prepool': False, '_weights': ['conv2d_18979/kernel:0', 'conv2d_18979/bias:0']}]}, {'is_branch': True, 'layers': [{'type': 'Conv2D', 'ker_size': 3, 'filters': 12, '2x_stride': True, 'has_bn': True, 'has_relu': True, 'has_prepool': False, '_weights': ['conv2d_18980/kernel:0', 'conv2d_18980/bias:0']}, {'type': 'DWConv2D', 'ker_size': 5, '2x_stride': True, 'has_bn': True, 'has_relu': True, 'has_prepool': True, '_weights': ['depthwise_conv2d_4139/depthwise_kernel:0', 'depthwise_conv2d_4139/bias:0']}]}, {'is_branch': False, 'layers': [{'type': '1x1Conv2D', 'filters': 39, 'has_bn': False, 'has_relu': True, 'has_prepool': False, '_weights': ['conv2d_18982/kernel:0', 'conv2d_18982/bias:0']}]}], 'pooling': {'type': 'avg', 'pool_size': 2}, 'dense_blocks': [{'units': 87, 'activation': 'relu', '_weights': ['dense_6943/kernel:0', 'dense_6943/bias:0']}, {'units': 121, 'activation': 'relu', '_weights': ['dense_6944/kernel:0', 'dense_6944/bias:0']}, {'units': 198, 'activation': 'relu', '_weights': ['dense_6945/kernel:0', 'dense_6945/bias:0']}], '_final_dense': {'units': 4, 'activation': None, '_weights': ['dense_6946/kernel:0', 'dense_6946/bias:0']}}\n",
      "0.6458333432674408\n"
     ]
    }
   ],
   "source": [
    "print(objects[0][2414].point.arch.architecture)\n",
    "print(objects[0][2414].test_error)"
   ]
  },
  {
   "cell_type": "code",
   "execution_count": 1,
   "metadata": {},
   "outputs": [
    {
     "name": "stderr",
     "output_type": "stream",
     "text": [
      "2022-07-04 14:11:28.914660: W tensorflow/stream_executor/platform/default/dso_loader.cc:64] Could not load dynamic library 'libcudart.so.11.0'; dlerror: libcudart.so.11.0: cannot open shared object file: No such file or directory\n",
      "2022-07-04 14:11:28.914719: I tensorflow/stream_executor/cuda/cudart_stub.cc:29] Ignore above cudart dlerror if you do not have a GPU set up on your machine.\n",
      "/home/antragoudaras/anaconda3/envs/uNAS-env/lib/python3.7/site-packages/tqdm/auto.py:22: TqdmWarning: IProgress not found. Please update jupyter and ipywidgets. See https://ipywidgets.readthedocs.io/en/stable/user_install.html\n",
      "  from .autonotebook import tqdm as notebook_tqdm\n",
      "/home/antragoudaras/anaconda3/envs/uNAS-env/lib/python3.7/site-packages/dragonfly/utils/oper_utils.py:30: UserWarning: cannot import name 'direct' from 'dragonfly.utils.direct_fortran' (/home/antragoudaras/anaconda3/envs/uNAS-env/lib/python3.7/site-packages/dragonfly/utils/direct_fortran/__init__.py)\n",
      "Could not import Fortran direct library. Dragonfly can still be used, but might be slightly slower. To get rid of this warning, install a numpy compatible Fortran compiler (e.g. gfortran) and the python-dev package and reinstall Dragonfly.\n",
      "  warn('%s\\n%s'%(e, fortran_err_msg))\n"
     ]
    }
   ],
   "source": [
    "import pickle\n",
    "import numpy as np\n",
    "import tensorflow as tf\n",
    "\n",
    "objects = []\n",
    "with (open(\"./artifacts/cnn_egg/uNAS_egg_dataset_subject_id2_agingevo_struct_pruning_no_bounds_agingevosearch_state.pickle\", \"rb\")) as openfile:\n",
    "    while True:\n",
    "        try:\n",
    "            objects.append(pickle.load(openfile))\n",
    "        except EOFError:\n",
    "            break"
   ]
  },
  {
   "cell_type": "code",
   "execution_count": 2,
   "metadata": {},
   "outputs": [
    {
     "name": "stdout",
     "output_type": "stream",
     "text": [
      "Minimum val error:  0.5172413885593414\n",
      "Minimum test error:  0.65625\n",
      "Val errors:  [0.51724139 0.55172414 0.55172414 ... 0.86206897 0.86206897 0.86206897]\n",
      "Test errors:  [0.65625    0.66666666 0.6736111  ... 0.7951389  0.7986111  0.80208333]\n",
      "Minimum test error found: 0.65625 in round: 888\n",
      "resource_features: [2703456, 154020, 36901425], test_error: 0.65625\n",
      "Maximum Peak Mem Usage: [   5472    6454    6454 ... 5523570 5523570 5618250]\n"
     ]
    }
   ],
   "source": [
    "val_errors = []\n",
    "test_errors = []\n",
    "peak_mem_usage =[]\n",
    "for point in objects[0]:\n",
    "    val_errors.append(point.val_error)\n",
    "    test_errors.append(point.test_error)\n",
    "    peak_mem_usage.append(point.resource_features[0])\n",
    "    \n",
    "print(\"Minimum val error: \", min(val_errors))\n",
    "print(\"Minimum test error: \", min(test_errors))\n",
    "print(\"Val errors: \", np.sort(val_errors))\n",
    "print(\"Test errors: \", np.sort(test_errors))\n",
    "minimum_arg = np.argmin(test_errors)\n",
    "print(\"Minimum test error found: {} in round: {}\".format(test_errors[minimum_arg], minimum_arg))\n",
    "print(\"resource_features: {}, test_error: {}\".format(objects[0][minimum_arg].resource_features, objects[0][minimum_arg].test_error))\n",
    "print(\"Maximum Peak Mem Usage: {}\".format(np.sort(peak_mem_usage)))"
   ]
  },
  {
   "cell_type": "code",
   "execution_count": 3,
   "metadata": {},
   "outputs": [
    {
     "name": "stdout",
     "output_type": "stream",
     "text": [
      "{'conv_blocks': [{'is_branch': False, 'layers': [{'type': '1x1Conv2D', 'filters': 108, 'has_bn': False, 'has_relu': True, 'has_prepool': False, '_weights': ['conv2d_7156/kernel:0', 'conv2d_7156/bias:0']}]}, {'is_branch': True, 'layers': [{'type': 'Conv2D', 'ker_size': 5, 'filters': 10, '2x_stride': True, 'has_bn': True, 'has_relu': True, 'has_prepool': False, '_weights': ['conv2d_7157/kernel:0', 'conv2d_7157/bias:0']}, {'type': 'Conv2D', 'ker_size': 5, 'filters': 108, '2x_stride': False, 'has_bn': True, 'has_relu': False, 'has_prepool': True, '_weights': ['conv2d_7158/kernel:0', 'conv2d_7158/bias:0']}]}, {'is_branch': True, 'layers': [{'type': 'Conv2D', 'ker_size': 3, 'filters': 108, '2x_stride': False, 'has_bn': True, 'has_relu': True, 'has_prepool': False, '_weights': ['conv2d_7159/kernel:0', 'conv2d_7159/bias:0']}]}], 'pooling': {'type': 'avg', 'pool_size': 4}, 'dense_blocks': [{'units': 17, 'activation': 'relu', '_weights': ['dense_2301/kernel:0', 'dense_2301/bias:0']}, {'units': 216, 'activation': 'relu', '_weights': ['dense_2302/kernel:0', 'dense_2302/bias:0']}], '_final_dense': {'units': 4, 'activation': None, '_weights': ['dense_2303/kernel:0', 'dense_2303/bias:0']}}\n",
      "0.65625\n"
     ]
    },
    {
     "ename": "",
     "evalue": "",
     "output_type": "error",
     "traceback": [
      "\u001b[1;31mThe Kernel crashed while executing code in the the current cell or a previous cell. Please review the code in the cell(s) to identify a possible cause of the failure. Click <a href='https://aka.ms/vscodeJupyterKernelCrash'>here</a> for more info. View Jupyter <a href='command:jupyter.viewOutput'>log</a> for further details."
     ]
    }
   ],
   "source": [
    "print(objects[0][888].point.arch.architecture)\n",
    "print(objects[0][888].test_error)"
   ]
  }
 ],
 "metadata": {
  "kernelspec": {
   "display_name": "Python 3.7.13 ('uNAS-env')",
   "language": "python",
   "name": "python3"
  },
  "language_info": {
   "codemirror_mode": {
    "name": "ipython",
    "version": 3
   },
   "file_extension": ".py",
   "mimetype": "text/x-python",
   "name": "python",
   "nbconvert_exporter": "python",
   "pygments_lexer": "ipython3",
   "version": "3.7.13"
  },
  "orig_nbformat": 4,
  "vscode": {
   "interpreter": {
    "hash": "b0a7741d7e029aabb38fa8d45f418a3fef337e7a049c994809bb975458eb7dfe"
   }
  }
 },
 "nbformat": 4,
 "nbformat_minor": 2
}
