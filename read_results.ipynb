{
 "cells": [
  {
   "cell_type": "code",
   "execution_count": 1,
   "metadata": {},
   "outputs": [
    {
     "name": "stderr",
     "output_type": "stream",
     "text": [
      "2022-06-15 00:12:46.385276: W tensorflow/stream_executor/platform/default/dso_loader.cc:64] Could not load dynamic library 'libcudart.so.11.0'; dlerror: libcudart.so.11.0: cannot open shared object file: No such file or directory\n",
      "2022-06-15 00:12:46.385299: I tensorflow/stream_executor/cuda/cudart_stub.cc:29] Ignore above cudart dlerror if you do not have a GPU set up on your machine.\n",
      "/home/antragoudaras/anaconda3/envs/uNAS-env/lib/python3.7/site-packages/tqdm/auto.py:22: TqdmWarning: IProgress not found. Please update jupyter and ipywidgets. See https://ipywidgets.readthedocs.io/en/stable/user_install.html\n",
      "  from .autonotebook import tqdm as notebook_tqdm\n",
      "/home/antragoudaras/anaconda3/envs/uNAS-env/lib/python3.7/site-packages/dragonfly/utils/oper_utils.py:30: UserWarning: cannot import name 'direct' from 'dragonfly.utils.direct_fortran' (/home/antragoudaras/anaconda3/envs/uNAS-env/lib/python3.7/site-packages/dragonfly/utils/direct_fortran/__init__.py)\n",
      "Could not import Fortran direct library. Dragonfly can still be used, but might be slightly slower. To get rid of this warning, install a numpy compatible Fortran compiler (e.g. gfortran) and the python-dev package and reinstall Dragonfly.\n",
      "  warn('%s\\n%s'%(e, fortran_err_msg))\n"
     ]
    }
   ],
   "source": [
    "import pickle\n",
    "import numpy as np\n",
    "import tensorflow as tf\n",
    "\n",
    "objects = []\n",
    "with (open(\"./artifacts/cnn_egg/uNAS_egg_dataset_subject_id3_agingevo_nopruning_agingevosearch_state.pickle\", \"rb\")) as openfile:\n",
    "    while True:\n",
    "        try:\n",
    "            objects.append(pickle.load(openfile))\n",
    "        except EOFError:\n",
    "            break"
   ]
  },
  {
   "cell_type": "code",
   "execution_count": 20,
   "metadata": {},
   "outputs": [
    {
     "name": "stdout",
     "output_type": "stream",
     "text": [
      "0.6551724076271057\n",
      "{'conv_blocks': [{'is_branch': False, 'layers': [{'type': 'DWConv2D', 'ker_size': 3, '2x_stride': False, 'has_bn': False, 'has_relu': False, 'has_prepool': False, '_weights': ['depthwise_conv2d_238/depthwise_kernel:0', 'depthwise_conv2d_238/bias:0']}, {'type': 'DWConv2D', 'ker_size': 5, '2x_stride': True, 'has_bn': True, 'has_relu': True, 'has_prepool': False, '_weights': ['depthwise_conv2d_239/depthwise_kernel:0', 'depthwise_conv2d_239/bias:0']}]}, {'is_branch': True, 'layers': [{'type': 'Conv2D', 'ker_size': 5, 'filters': 1, '2x_stride': True, 'has_bn': False, 'has_relu': True, 'has_prepool': False, '_weights': ['conv2d_563/kernel:0', 'conv2d_563/bias:0']}, {'type': 'Conv2D', 'ker_size': 3, 'filters': 1, '2x_stride': False, 'has_bn': True, 'has_relu': True, 'has_prepool': False, '_weights': ['conv2d_564/kernel:0', 'conv2d_564/bias:0']}]}, {'is_branch': False, 'layers': [{'type': 'DWConv2D', 'ker_size': 3, '2x_stride': True, 'has_bn': True, 'has_relu': True, 'has_prepool': True, '_weights': ['depthwise_conv2d_240/depthwise_kernel:0', 'depthwise_conv2d_240/bias:0']}]}, {'is_branch': True, 'layers': [{'type': 'Conv2D', 'ker_size': 3, 'filters': 1, '2x_stride': False, 'has_bn': False, 'has_relu': True, 'has_prepool': False, '_weights': ['conv2d_565/kernel:0', 'conv2d_565/bias:0']}]}], 'pooling': None, 'dense_blocks': [{'units': 18, 'activation': 'relu', '_weights': ['dense_255/kernel:0', 'dense_255/bias:0']}], '_final_dense': {'units': 4, 'activation': None, '_weights': ['dense_256/kernel:0', 'dense_256/bias:0']}}\n",
      "[26940, 2706, 522017]\n"
     ]
    }
   ],
   "source": [
    "print(objects[0][100].val_error)\n",
    "print(objects[0][100].point.arch.architecture)\n",
    "print(objects[0][100].resource_features)"
   ]
  }
 ],
 "metadata": {
  "kernelspec": {
   "display_name": "Python 3.7.13 ('uNAS-env')",
   "language": "python",
   "name": "python3"
  },
  "language_info": {
   "codemirror_mode": {
    "name": "ipython",
    "version": 3
   },
   "file_extension": ".py",
   "mimetype": "text/x-python",
   "name": "python",
   "nbconvert_exporter": "python",
   "pygments_lexer": "ipython3",
   "version": "3.7.13"
  },
  "orig_nbformat": 4,
  "vscode": {
   "interpreter": {
    "hash": "b0a7741d7e029aabb38fa8d45f418a3fef337e7a049c994809bb975458eb7dfe"
   }
  }
 },
 "nbformat": 4,
 "nbformat_minor": 2
}
