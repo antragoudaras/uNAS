{
 "cells": [
  {
   "cell_type": "code",
   "execution_count": 1,
   "metadata": {},
   "outputs": [
    {
     "name": "stderr",
     "output_type": "stream",
     "text": [
      "2022-06-07 16:47:10.048345: W tensorflow/stream_executor/platform/default/dso_loader.cc:59] Could not load dynamic library 'libcudart.so.10.1'; dlerror: libcudart.so.10.1: cannot open shared object file: No such file or directory\n",
      "2022-06-07 16:47:10.048440: I tensorflow/stream_executor/cuda/cudart_stub.cc:29] Ignore above cudart dlerror if you do not have a GPU set up on your machine.\n",
      "/home/antragoudaras/uNAS/env/lib/python3.7/site-packages/dragonfly/utils/oper_utils.py:30: UserWarning: cannot import name 'direct' from 'dragonfly.utils.direct_fortran' (/home/antragoudaras/uNAS/env/lib/python3.7/site-packages/dragonfly/utils/direct_fortran/__init__.py)\n",
      "Could not import Fortran direct library. Dragonfly can still be used, but might be slightly slower. To get rid of this warning, install a numpy compatible Fortran compiler (e.g. gfortran) and the python-dev package and reinstall Dragonfly.\n",
      "  warn('%s\\n%s'%(e, fortran_err_msg))\n"
     ]
    }
   ],
   "source": [
    "import pickle\n",
    "import numpy as np\n",
    "import tensorflow as tf\n",
    "\n",
    "objects = []\n",
    "with (open(\"./artifacts/cnn_mnist/plain_final_agingevosearch_state.pickle\", \"rb\")) as openfile:\n",
    "    while True:\n",
    "        try:\n",
    "            objects.append(pickle.load(openfile))\n",
    "        except EOFError:\n",
    "            break"
   ]
  },
  {
   "cell_type": "code",
   "execution_count": 3,
   "metadata": {},
   "outputs": [
    {
     "name": "stdout",
     "output_type": "stream",
     "text": [
      "0.008666694164276123\n",
      "{'conv_blocks': [{'is_branch': False, 'layers': [{'type': 'DWConv2D', 'ker_size': 3, '2x_stride': True, 'has_bn': False, 'has_relu': False, 'has_prepool': False, '_weights': ['depthwise_conv2d_576/depthwise_kernel:0', 'depthwise_conv2d_576/bias:0']}, {'type': 'Conv2D', 'ker_size': 3, 'filters': 59, '2x_stride': True, 'has_bn': False, 'has_relu': False, 'has_prepool': False, '_weights': ['conv2d_650/kernel:0', 'conv2d_650/bias:0']}]}, {'is_branch': True, 'layers': [{'type': 'Conv2D', 'ker_size': 7, 'filters': 1, '2x_stride': False, 'has_bn': True, 'has_relu': True, 'has_prepool': False, '_weights': ['conv2d_651/kernel:0', 'conv2d_651/bias:0']}]}, {'is_branch': False, 'layers': [{'type': 'DWConv2D', 'ker_size': 3, '2x_stride': False, 'has_bn': False, 'has_relu': True, 'has_prepool': False, '_weights': ['depthwise_conv2d_577/depthwise_kernel:0', 'depthwise_conv2d_577/bias:0']}]}], 'pooling': None, 'dense_blocks': [{'units': 39, 'activation': 'relu', '_weights': ['dense_595/kernel:0', 'dense_595/bias:0']}], '_final_dense': {'units': 10, 'activation': None, '_weights': ['dense_596/kernel:0', 'dense_596/bias:0']}}\n",
      "[520, 630, 26837]\n"
     ]
    }
   ],
   "source": [
    "print(objects[0][1995].val_error)\n",
    "print(objects[0][1995].point.arch.architecture)\n",
    "print(objects[0][1995].resource_features)"
   ]
  }
 ],
 "metadata": {
  "interpreter": {
   "hash": "f386fbfe3a53456d5759ce172698525e87edca013c438e97bdc06433c3c384b6"
  },
  "kernelspec": {
   "display_name": "Python 3.7.13 (conda)",
   "language": "python",
   "name": "python3"
  },
  "language_info": {
   "codemirror_mode": {
    "name": "ipython",
    "version": 3
   },
   "file_extension": ".py",
   "mimetype": "text/x-python",
   "name": "python",
   "nbconvert_exporter": "python",
   "pygments_lexer": "ipython3",
   "version": "3.7.13"
  },
  "orig_nbformat": 4
 },
 "nbformat": 4,
 "nbformat_minor": 2
}
